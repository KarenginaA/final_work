{
 "cells": [
  {
   "cell_type": "markdown",
   "id": "edd4b0f1",
   "metadata": {},
   "source": [
    "## Описание бизнес кейса"
   ]
  },
  {
   "cell_type": "markdown",
   "id": "ab284095",
   "metadata": {},
   "source": [
    "### 1) Подведите результаты эксперимента в экселе по следующим данным: ab_stats.csv - Google Диск:\n",
    "### Стат значимо ли отличается ARPPU в двух группах ? Какие рекомендации дадите менеджеру?"
   ]
  },
  {
   "cell_type": "code",
   "execution_count": 49,
   "id": "c2dbf88d",
   "metadata": {},
   "outputs": [],
   "source": [
    "from scipy.stats import ttest_1samp\n",
    "import numpy as np\n",
    "import pandas as pd\n",
    "\n",
    "from scipy.stats import norm, t, kstest, shapiro\n",
    "import statsmodels.api as sm\n",
    "from matplotlib import pyplot as plt\n",
    "\n",
    "import warnings\n",
    "warnings.filterwarnings('ignore')\n",
    "warnings.warn('DelftStack')\n",
    "warnings.warn('Do not show this message')"
   ]
  },
  {
   "cell_type": "code",
   "execution_count": 9,
   "id": "ed20b545",
   "metadata": {},
   "outputs": [
    {
     "data": {
      "text/html": [
       "<div>\n",
       "<style scoped>\n",
       "    .dataframe tbody tr th:only-of-type {\n",
       "        vertical-align: middle;\n",
       "    }\n",
       "\n",
       "    .dataframe tbody tr th {\n",
       "        vertical-align: top;\n",
       "    }\n",
       "\n",
       "    .dataframe thead th {\n",
       "        text-align: right;\n",
       "    }\n",
       "</style>\n",
       "<table border=\"1\" class=\"dataframe\">\n",
       "  <thead>\n",
       "    <tr style=\"text-align: right;\">\n",
       "      <th></th>\n",
       "      <th>revenue</th>\n",
       "      <th>num_purchases</th>\n",
       "      <th>purchase</th>\n",
       "      <th>ab_group</th>\n",
       "      <th>av_site visit</th>\n",
       "    </tr>\n",
       "  </thead>\n",
       "  <tbody>\n",
       "    <tr>\n",
       "      <th>0</th>\n",
       "      <td>0.0</td>\n",
       "      <td>0</td>\n",
       "      <td>0</td>\n",
       "      <td>A</td>\n",
       "      <td>9.040174</td>\n",
       "    </tr>\n",
       "    <tr>\n",
       "      <th>1</th>\n",
       "      <td>0.0</td>\n",
       "      <td>0</td>\n",
       "      <td>0</td>\n",
       "      <td>A</td>\n",
       "      <td>4.811628</td>\n",
       "    </tr>\n",
       "    <tr>\n",
       "      <th>2</th>\n",
       "      <td>0.0</td>\n",
       "      <td>0</td>\n",
       "      <td>0</td>\n",
       "      <td>A</td>\n",
       "      <td>7.342623</td>\n",
       "    </tr>\n",
       "    <tr>\n",
       "      <th>3</th>\n",
       "      <td>0.0</td>\n",
       "      <td>0</td>\n",
       "      <td>0</td>\n",
       "      <td>A</td>\n",
       "      <td>7.744581</td>\n",
       "    </tr>\n",
       "    <tr>\n",
       "      <th>4</th>\n",
       "      <td>0.0</td>\n",
       "      <td>0</td>\n",
       "      <td>0</td>\n",
       "      <td>A</td>\n",
       "      <td>10.511814</td>\n",
       "    </tr>\n",
       "    <tr>\n",
       "      <th>...</th>\n",
       "      <td>...</td>\n",
       "      <td>...</td>\n",
       "      <td>...</td>\n",
       "      <td>...</td>\n",
       "      <td>...</td>\n",
       "    </tr>\n",
       "    <tr>\n",
       "      <th>23647</th>\n",
       "      <td>0.0</td>\n",
       "      <td>0</td>\n",
       "      <td>0</td>\n",
       "      <td>B</td>\n",
       "      <td>10.207152</td>\n",
       "    </tr>\n",
       "    <tr>\n",
       "      <th>23648</th>\n",
       "      <td>0.0</td>\n",
       "      <td>0</td>\n",
       "      <td>0</td>\n",
       "      <td>B</td>\n",
       "      <td>5.148761</td>\n",
       "    </tr>\n",
       "    <tr>\n",
       "      <th>23649</th>\n",
       "      <td>0.0</td>\n",
       "      <td>0</td>\n",
       "      <td>0</td>\n",
       "      <td>B</td>\n",
       "      <td>4.809019</td>\n",
       "    </tr>\n",
       "    <tr>\n",
       "      <th>23650</th>\n",
       "      <td>0.0</td>\n",
       "      <td>0</td>\n",
       "      <td>0</td>\n",
       "      <td>B</td>\n",
       "      <td>8.127488</td>\n",
       "    </tr>\n",
       "    <tr>\n",
       "      <th>23651</th>\n",
       "      <td>0.0</td>\n",
       "      <td>0</td>\n",
       "      <td>0</td>\n",
       "      <td>B</td>\n",
       "      <td>8.928102</td>\n",
       "    </tr>\n",
       "  </tbody>\n",
       "</table>\n",
       "<p>23652 rows × 5 columns</p>\n",
       "</div>"
      ],
      "text/plain": [
       "       revenue  num_purchases  purchase ab_group  av_site visit\n",
       "0          0.0              0         0        A       9.040174\n",
       "1          0.0              0         0        A       4.811628\n",
       "2          0.0              0         0        A       7.342623\n",
       "3          0.0              0         0        A       7.744581\n",
       "4          0.0              0         0        A      10.511814\n",
       "...        ...            ...       ...      ...            ...\n",
       "23647      0.0              0         0        B      10.207152\n",
       "23648      0.0              0         0        B       5.148761\n",
       "23649      0.0              0         0        B       4.809019\n",
       "23650      0.0              0         0        B       8.127488\n",
       "23651      0.0              0         0        B       8.928102\n",
       "\n",
       "[23652 rows x 5 columns]"
      ]
     },
     "execution_count": 9,
     "metadata": {},
     "output_type": "execute_result"
    }
   ],
   "source": [
    "df = pd.read_csv('ab_stats - ab_stats.csv')\n",
    "df"
   ]
  },
  {
   "cell_type": "code",
   "execution_count": 10,
   "id": "02666143",
   "metadata": {},
   "outputs": [
    {
     "name": "stdout",
     "output_type": "stream",
     "text": [
      "<class 'pandas.core.frame.DataFrame'>\n",
      "RangeIndex: 23652 entries, 0 to 23651\n",
      "Data columns (total 5 columns):\n",
      " #   Column         Non-Null Count  Dtype  \n",
      "---  ------         --------------  -----  \n",
      " 0   revenue        23652 non-null  float64\n",
      " 1   num_purchases  23652 non-null  int64  \n",
      " 2   purchase       23652 non-null  int64  \n",
      " 3   ab_group       23652 non-null  object \n",
      " 4   av_site visit  23652 non-null  float64\n",
      "dtypes: float64(2), int64(2), object(1)\n",
      "memory usage: 924.0+ KB\n"
     ]
    }
   ],
   "source": [
    "df.info()"
   ]
  },
  {
   "cell_type": "code",
   "execution_count": 11,
   "id": "6df60a32",
   "metadata": {},
   "outputs": [
    {
     "data": {
      "text/plain": [
       "revenue          0\n",
       "num_purchases    0\n",
       "purchase         0\n",
       "ab_group         0\n",
       "av_site visit    0\n",
       "dtype: int64"
      ]
     },
     "execution_count": 11,
     "metadata": {},
     "output_type": "execute_result"
    }
   ],
   "source": [
    "df.isna().sum()"
   ]
  },
  {
   "cell_type": "code",
   "execution_count": 12,
   "id": "3cdb4076",
   "metadata": {},
   "outputs": [
    {
     "data": {
      "text/html": [
       "<div>\n",
       "<style scoped>\n",
       "    .dataframe tbody tr th:only-of-type {\n",
       "        vertical-align: middle;\n",
       "    }\n",
       "\n",
       "    .dataframe tbody tr th {\n",
       "        vertical-align: top;\n",
       "    }\n",
       "\n",
       "    .dataframe thead th {\n",
       "        text-align: right;\n",
       "    }\n",
       "</style>\n",
       "<table border=\"1\" class=\"dataframe\">\n",
       "  <thead>\n",
       "    <tr style=\"text-align: right;\">\n",
       "      <th></th>\n",
       "      <th>revenue</th>\n",
       "      <th>num_purchases</th>\n",
       "      <th>purchase</th>\n",
       "      <th>av_site visit</th>\n",
       "    </tr>\n",
       "  </thead>\n",
       "  <tbody>\n",
       "    <tr>\n",
       "      <th>count</th>\n",
       "      <td>23652.000000</td>\n",
       "      <td>23652.000000</td>\n",
       "      <td>23652.000000</td>\n",
       "      <td>23652.000000</td>\n",
       "    </tr>\n",
       "    <tr>\n",
       "      <th>mean</th>\n",
       "      <td>0.324689</td>\n",
       "      <td>0.043590</td>\n",
       "      <td>0.020717</td>\n",
       "      <td>7.013112</td>\n",
       "    </tr>\n",
       "    <tr>\n",
       "      <th>std</th>\n",
       "      <td>9.557730</td>\n",
       "      <td>1.079403</td>\n",
       "      <td>0.142438</td>\n",
       "      <td>3.154584</td>\n",
       "    </tr>\n",
       "    <tr>\n",
       "      <th>min</th>\n",
       "      <td>0.000000</td>\n",
       "      <td>0.000000</td>\n",
       "      <td>0.000000</td>\n",
       "      <td>-12.073486</td>\n",
       "    </tr>\n",
       "    <tr>\n",
       "      <th>25%</th>\n",
       "      <td>0.000000</td>\n",
       "      <td>0.000000</td>\n",
       "      <td>0.000000</td>\n",
       "      <td>5.173787</td>\n",
       "    </tr>\n",
       "    <tr>\n",
       "      <th>50%</th>\n",
       "      <td>0.000000</td>\n",
       "      <td>0.000000</td>\n",
       "      <td>0.000000</td>\n",
       "      <td>7.007936</td>\n",
       "    </tr>\n",
       "    <tr>\n",
       "      <th>75%</th>\n",
       "      <td>0.000000</td>\n",
       "      <td>0.000000</td>\n",
       "      <td>0.000000</td>\n",
       "      <td>8.864119</td>\n",
       "    </tr>\n",
       "    <tr>\n",
       "      <th>max</th>\n",
       "      <td>1303.609284</td>\n",
       "      <td>152.000000</td>\n",
       "      <td>1.000000</td>\n",
       "      <td>22.446822</td>\n",
       "    </tr>\n",
       "  </tbody>\n",
       "</table>\n",
       "</div>"
      ],
      "text/plain": [
       "            revenue  num_purchases      purchase  av_site visit\n",
       "count  23652.000000   23652.000000  23652.000000   23652.000000\n",
       "mean       0.324689       0.043590      0.020717       7.013112\n",
       "std        9.557730       1.079403      0.142438       3.154584\n",
       "min        0.000000       0.000000      0.000000     -12.073486\n",
       "25%        0.000000       0.000000      0.000000       5.173787\n",
       "50%        0.000000       0.000000      0.000000       7.007936\n",
       "75%        0.000000       0.000000      0.000000       8.864119\n",
       "max     1303.609284     152.000000      1.000000      22.446822"
      ]
     },
     "execution_count": 12,
     "metadata": {},
     "output_type": "execute_result"
    }
   ],
   "source": [
    "df.describe()"
   ]
  },
  {
   "cell_type": "code",
   "execution_count": 13,
   "id": "9fc4094d",
   "metadata": {},
   "outputs": [
    {
     "data": {
      "text/plain": [
       "3733"
      ]
     },
     "execution_count": 13,
     "metadata": {},
     "output_type": "execute_result"
    }
   ],
   "source": [
    "df.duplicated().sum() "
   ]
  },
  {
   "cell_type": "markdown",
   "id": "e3ea598d",
   "metadata": {},
   "source": [
    "Проанализируем метрику ARPPU."
   ]
  },
  {
   "cell_type": "markdown",
   "id": "14cb5508",
   "metadata": {},
   "source": [
    "ARPPU (Average Revenue Per Paying User) - средний доход, который приносит платящий пользователь за определенный период времени.Эта метрика позволяет измерять ценность продукта компании и прогнозировать доход."
   ]
  },
  {
   "cell_type": "markdown",
   "id": "115ca22f",
   "metadata": {},
   "source": [
    " проанализируем показатель revenue"
   ]
  },
  {
   "cell_type": "code",
   "execution_count": 14,
   "id": "f06d8d57",
   "metadata": {},
   "outputs": [
    {
     "data": {
      "text/plain": [
       "1303.609284"
      ]
     },
     "execution_count": 14,
     "metadata": {},
     "output_type": "execute_result"
    }
   ],
   "source": [
    "df[(df['ab_group'] == 'A')]['revenue'].max()"
   ]
  },
  {
   "cell_type": "code",
   "execution_count": 15,
   "id": "dca19cc1",
   "metadata": {},
   "outputs": [
    {
     "data": {
      "text/plain": [
       "113.829999999999"
      ]
     },
     "execution_count": 15,
     "metadata": {},
     "output_type": "execute_result"
    }
   ],
   "source": [
    "df[(df['ab_group'] == 'B')]['revenue'].max()"
   ]
  },
  {
   "cell_type": "markdown",
   "id": "2c2386ba",
   "metadata": {},
   "source": [
    "* revenue у группы А почти в 9 раз превышает чем у группы В"
   ]
  },
  {
   "cell_type": "code",
   "execution_count": 23,
   "id": "7dc799b8",
   "metadata": {},
   "outputs": [
    {
     "data": {
      "text/plain": [
       "11835"
      ]
     },
     "execution_count": 23,
     "metadata": {},
     "output_type": "execute_result"
    }
   ],
   "source": [
    "df[(df['ab_group'] == 'A')]['ab_group'].count()"
   ]
  },
  {
   "cell_type": "code",
   "execution_count": 24,
   "id": "f0415aa0",
   "metadata": {},
   "outputs": [
    {
     "data": {
      "text/plain": [
       "11817"
      ]
     },
     "execution_count": 24,
     "metadata": {},
     "output_type": "execute_result"
    }
   ],
   "source": [
    "df[(df['ab_group'] == 'B')]['ab_group'].count()"
   ]
  },
  {
   "cell_type": "code",
   "execution_count": 16,
   "id": "d59de14c",
   "metadata": {},
   "outputs": [
    {
     "data": {
      "text/plain": [
       "A    11835\n",
       "B    11817\n",
       "Name: ab_group, dtype: int64"
      ]
     },
     "execution_count": 16,
     "metadata": {},
     "output_type": "execute_result"
    }
   ],
   "source": [
    "df['ab_group'].value_counts()"
   ]
  },
  {
   "cell_type": "markdown",
   "id": "60760597",
   "metadata": {},
   "source": [
    "* По количеству, пользователи в двух группах почти одниково распределены"
   ]
  },
  {
   "cell_type": "markdown",
   "id": "706f8bf3",
   "metadata": {},
   "source": [
    "Найдём количество пользователей\n",
    "для каждой группы, у кого была одна и более покупка"
   ]
  },
  {
   "cell_type": "code",
   "execution_count": 17,
   "id": "50a518c8",
   "metadata": {},
   "outputs": [
    {
     "data": {
      "text/plain": [
       "256"
      ]
     },
     "execution_count": 17,
     "metadata": {},
     "output_type": "execute_result"
    }
   ],
   "source": [
    "df[(df['ab_group'] == 'A') & (df['num_purchases'] >=1)]['ab_group'].count()"
   ]
  },
  {
   "cell_type": "code",
   "execution_count": 18,
   "id": "b2aa007f",
   "metadata": {},
   "outputs": [
    {
     "data": {
      "text/plain": [
       "234"
      ]
     },
     "execution_count": 18,
     "metadata": {},
     "output_type": "execute_result"
    }
   ],
   "source": [
    "df[(df['ab_group'] == 'B') & (df['num_purchases'] >=1)]['ab_group'].count()"
   ]
  },
  {
   "cell_type": "code",
   "execution_count": 25,
   "id": "2183ae01",
   "metadata": {},
   "outputs": [
    {
     "data": {
      "text/plain": [
       "0.11014865095057033"
      ]
     },
     "execution_count": 25,
     "metadata": {},
     "output_type": "execute_result"
    }
   ],
   "source": [
    "df[(df['ab_group'] == 'A')]['revenue'].max()/df[(df['ab_group'] == 'A')]['ab_group'].count()"
   ]
  },
  {
   "cell_type": "code",
   "execution_count": 26,
   "id": "028f913c",
   "metadata": {},
   "outputs": [
    {
     "data": {
      "text/plain": [
       "0.009632732504019548"
      ]
     },
     "execution_count": 26,
     "metadata": {},
     "output_type": "execute_result"
    }
   ],
   "source": [
    "df[(df['ab_group'] == 'B')]['revenue'].max()/df[(df['ab_group'] == 'B')]['ab_group'].count()"
   ]
  },
  {
   "cell_type": "markdown",
   "id": "a50ba55e",
   "metadata": {},
   "source": [
    "* ARPPU группы А в 12 раз превышает чем у группы B.\n",
    "Если предположить,\n",
    "что группа А-контрольная, а В-тестовая, то значимых изменений у нас нет. "
   ]
  },
  {
   "cell_type": "code",
   "execution_count": 29,
   "id": "1a32b169",
   "metadata": {},
   "outputs": [
    {
     "name": "stdout",
     "output_type": "stream",
     "text": [
      "Distribution is not normal\n",
      "\n"
     ]
    }
   ],
   "source": [
    "alpha = 0.05\n",
    "st = shapiro(df.revenue)\n",
    "print('Distribution is {}normal\\n'.format( {True:'not ',\n",
    "False:''}[st[1] < alpha]))"
   ]
  },
  {
   "cell_type": "markdown",
   "id": "f7a29534",
   "metadata": {},
   "source": [
    "* Тесть Шапиро показал, что распределение ненормальное"
   ]
  },
  {
   "cell_type": "code",
   "execution_count": 30,
   "id": "ffeeb757",
   "metadata": {},
   "outputs": [
    {
     "name": "stdout",
     "output_type": "stream",
     "text": [
      "KstestResult(statistic=0.5, pvalue=0.0, statistic_location=0.0, statistic_sign=-1)\n"
     ]
    }
   ],
   "source": [
    "print(kstest(df.revenue, 'norm'))"
   ]
  },
  {
   "cell_type": "markdown",
   "id": "946dd882",
   "metadata": {},
   "source": [
    "* p-значение равно 0.0, что указывает на то, что нулевая гипотеза\n",
    "может быть отвергнута."
   ]
  },
  {
   "cell_type": "markdown",
   "id": "20cbad06",
   "metadata": {},
   "source": [
    "\n",
    "На основе проведённого анализа сделаем общий вывод:\n",
    "* Отвергнуть нулевую гипотезу: Данному А/В тесту имеет место быть. Поэтому мы\n",
    "можем отвергнуть нулевую гипотезу о том, что статистических различий между\n",
    "двумя группами по показателю ARPPU нет.\n",
    "* Взглянув на статистику\n",
    "Колмогорова-Смирнова и ее положение во втором распределении, можно сделать\n",
    "вывод, что группа В имеет большее удаление от гипотетического распределения.\n",
    "* На основе результатов AB-теста,\n",
    "можно провести обсуждение с командой разработки и менеджментом о\n",
    "дальнейших идеях и улучшениях, которые могут быть внедрены для привлечения\n",
    "новых потенциальных покупателей с активной конверсией их в покупки. "
   ]
  },
  {
   "cell_type": "code",
   "execution_count": null,
   "id": "3051e013",
   "metadata": {},
   "outputs": [],
   "source": []
  }
 ],
 "metadata": {
  "kernelspec": {
   "display_name": "Python 3 (ipykernel)",
   "language": "python",
   "name": "python3"
  },
  "language_info": {
   "codemirror_mode": {
    "name": "ipython",
    "version": 3
   },
   "file_extension": ".py",
   "mimetype": "text/x-python",
   "name": "python",
   "nbconvert_exporter": "python",
   "pygments_lexer": "ipython3",
   "version": "3.11.3"
  }
 },
 "nbformat": 4,
 "nbformat_minor": 5
}
